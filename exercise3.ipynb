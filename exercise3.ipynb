{
 "cells": [
  {
   "cell_type": "markdown",
   "metadata": {},
   "source": [
    "# This is the third exercise from EPFL EE-559 – DEEP LEARNING course"
   ]
  },
  {
   "cell_type": "markdown",
   "metadata": {},
   "source": [
    "## hello all!\n"
   ]
  },
  {
   "cell_type": "markdown",
   "metadata": {},
   "source": [
    "The exercise itself is located  <a href=\"https://fleuret.org/ee559/materials/ee559-practical-3.pdf\"> here</a><br>\n",
    "Please Note!<br>\n",
    "I didn't write myself most if this exercise since it is very similar to Andrew NG course about machine learning and basic neural networks.\n",
    "You can find the solution in <a href=\"https://fleuret.org/ee559/?fbclid=IwAR2LlEsNcby-TCjX6rE1g27YowGVnvUyQ9zTXoxYKFwCA-2aIi2g0ZT8CSs\">here</a>\n",
    "and all rights reserved to according to the terms listed in the above mentioned webpage."
   ]
  },
  {
   "cell_type": "code",
   "execution_count": 1,
   "metadata": {},
   "outputs": [],
   "source": [
    "import math\n",
    "import torch\n",
    "import os"
   ]
  },
  {
   "cell_type": "code",
   "execution_count": 2,
   "metadata": {},
   "outputs": [
    {
     "data": {
      "text/plain": [
       "'C:\\\\Users\\\\zeogo\\\\Documents\\\\ML books\\\\Pytorch course\\\\PracSolutions'"
      ]
     },
     "execution_count": 2,
     "metadata": {},
     "output_type": "execute_result"
    }
   ],
   "source": [
    "os.getcwd()"
   ]
  },
  {
   "cell_type": "code",
   "execution_count": 3,
   "metadata": {},
   "outputs": [],
   "source": [
    "os.chdir(\"..\")"
   ]
  },
  {
   "cell_type": "code",
   "execution_count": 4,
   "metadata": {},
   "outputs": [],
   "source": [
    "import torch\n",
    "import torchvision\n",
    "import dlc_practical_prologue as prologue"
   ]
  },
  {
   "cell_type": "code",
   "execution_count": 5,
   "metadata": {},
   "outputs": [],
   "source": [
    "def sigma(x):\n",
    "    active = x.tanh()\n",
    "    return active"
   ]
  },
  {
   "cell_type": "code",
   "execution_count": 6,
   "metadata": {},
   "outputs": [],
   "source": [
    "def dsigma(x):\n",
    "    return (1 - torch.pow(x.tanh(), 2))"
   ]
  },
  {
   "cell_type": "code",
   "execution_count": 7,
   "metadata": {},
   "outputs": [],
   "source": [
    "def loss(v, t):\n",
    "    return (v - t).pow(2).sum()"
   ]
  },
  {
   "cell_type": "code",
   "execution_count": 8,
   "metadata": {},
   "outputs": [],
   "source": [
    "def dloss(v, t):\n",
    "    return 2*(v - t)"
   ]
  },
  {
   "cell_type": "code",
   "execution_count": 9,
   "metadata": {},
   "outputs": [
    {
     "name": "stdout",
     "output_type": "stream",
     "text": [
      "* Using MNIST\n",
      "** Reduce the data-set (use --full for the full thing)\n",
      "** Use 1000 train and 1000 test samples\n",
      "0 acc_train_loss 1000.00 acc_train_error 90.30% test_error 90.10%\n",
      "1 acc_train_loss 963.68 acc_train_error 88.30% test_error 90.10%\n",
      "2 acc_train_loss 940.46 acc_train_error 88.30% test_error 90.10%\n",
      "3 acc_train_loss 925.61 acc_train_error 88.30% test_error 90.10%\n",
      "4 acc_train_loss 916.12 acc_train_error 88.30% test_error 90.10%\n",
      "5 acc_train_loss 910.04 acc_train_error 88.30% test_error 90.10%\n",
      "6 acc_train_loss 906.13 acc_train_error 88.30% test_error 90.10%\n",
      "7 acc_train_loss 903.63 acc_train_error 88.30% test_error 90.10%\n",
      "8 acc_train_loss 902.02 acc_train_error 88.30% test_error 90.10%\n",
      "9 acc_train_loss 900.98 acc_train_error 88.30% test_error 90.10%\n",
      "10 acc_train_loss 900.32 acc_train_error 88.30% test_error 90.10%\n",
      "11 acc_train_loss 899.88 acc_train_error 88.30% test_error 90.10%\n",
      "12 acc_train_loss 899.61 acc_train_error 88.30% test_error 90.10%\n",
      "13 acc_train_loss 899.43 acc_train_error 88.30% test_error 90.10%\n",
      "14 acc_train_loss 899.31 acc_train_error 88.30% test_error 90.10%\n",
      "15 acc_train_loss 899.24 acc_train_error 88.30% test_error 90.10%\n",
      "16 acc_train_loss 899.19 acc_train_error 88.30% test_error 90.10%\n",
      "17 acc_train_loss 899.16 acc_train_error 88.30% test_error 90.10%\n",
      "18 acc_train_loss 899.13 acc_train_error 88.30% test_error 90.10%\n",
      "19 acc_train_loss 899.12 acc_train_error 88.30% test_error 90.10%\n",
      "20 acc_train_loss 899.10 acc_train_error 88.30% test_error 90.10%\n",
      "21 acc_train_loss 899.08 acc_train_error 88.30% test_error 90.10%\n",
      "22 acc_train_loss 899.05 acc_train_error 88.30% test_error 90.10%\n",
      "23 acc_train_loss 899.00 acc_train_error 88.30% test_error 90.10%\n",
      "24 acc_train_loss 898.91 acc_train_error 88.30% test_error 90.10%\n",
      "25 acc_train_loss 898.76 acc_train_error 88.30% test_error 90.10%\n",
      "26 acc_train_loss 898.49 acc_train_error 88.30% test_error 87.60%\n",
      "27 acc_train_loss 898.02 acc_train_error 82.00% test_error 79.50%\n",
      "28 acc_train_loss 897.18 acc_train_error 78.60% test_error 79.50%\n",
      "29 acc_train_loss 895.73 acc_train_error 78.90% test_error 78.20%\n",
      "30 acc_train_loss 893.22 acc_train_error 74.10% test_error 74.80%\n",
      "31 acc_train_loss 889.03 acc_train_error 71.00% test_error 73.90%\n",
      "32 acc_train_loss 882.32 acc_train_error 71.10% test_error 73.90%\n",
      "33 acc_train_loss 872.30 acc_train_error 71.70% test_error 74.30%\n",
      "34 acc_train_loss 858.68 acc_train_error 71.80% test_error 74.40%\n",
      "35 acc_train_loss 842.26 acc_train_error 72.00% test_error 74.20%\n",
      "36 acc_train_loss 824.79 acc_train_error 71.10% test_error 73.60%\n",
      "37 acc_train_loss 807.74 acc_train_error 70.20% test_error 72.40%\n",
      "38 acc_train_loss 791.55 acc_train_error 68.90% test_error 71.10%\n",
      "39 acc_train_loss 776.65 acc_train_error 68.40% test_error 70.40%\n",
      "40 acc_train_loss 764.21 acc_train_error 67.50% test_error 69.60%\n",
      "41 acc_train_loss 754.89 acc_train_error 66.70% test_error 69.00%\n",
      "42 acc_train_loss 747.89 acc_train_error 66.00% test_error 68.10%\n",
      "43 acc_train_loss 741.60 acc_train_error 64.20% test_error 66.30%\n",
      "44 acc_train_loss 734.77 acc_train_error 62.30% test_error 63.20%\n",
      "45 acc_train_loss 726.79 acc_train_error 59.60% test_error 60.80%\n",
      "46 acc_train_loss 717.66 acc_train_error 55.90% test_error 58.00%\n",
      "47 acc_train_loss 707.93 acc_train_error 52.40% test_error 55.80%\n",
      "48 acc_train_loss 698.48 acc_train_error 48.90% test_error 54.10%\n",
      "49 acc_train_loss 690.15 acc_train_error 47.60% test_error 53.10%\n",
      "50 acc_train_loss 683.35 acc_train_error 46.80% test_error 51.80%\n",
      "51 acc_train_loss 677.86 acc_train_error 45.70% test_error 50.40%\n",
      "52 acc_train_loss 673.16 acc_train_error 45.50% test_error 50.00%\n",
      "53 acc_train_loss 668.68 acc_train_error 44.90% test_error 48.50%\n",
      "54 acc_train_loss 664.02 acc_train_error 44.00% test_error 48.10%\n",
      "55 acc_train_loss 658.91 acc_train_error 43.20% test_error 47.20%\n",
      "56 acc_train_loss 653.23 acc_train_error 42.80% test_error 46.00%\n",
      "57 acc_train_loss 646.94 acc_train_error 42.50% test_error 45.40%\n",
      "58 acc_train_loss 640.10 acc_train_error 41.70% test_error 44.30%\n",
      "59 acc_train_loss 632.83 acc_train_error 41.20% test_error 43.70%\n",
      "60 acc_train_loss 625.28 acc_train_error 40.70% test_error 43.10%\n",
      "61 acc_train_loss 617.62 acc_train_error 39.60% test_error 41.60%\n",
      "62 acc_train_loss 609.93 acc_train_error 38.40% test_error 40.90%\n",
      "63 acc_train_loss 602.24 acc_train_error 36.70% test_error 39.50%\n",
      "64 acc_train_loss 594.50 acc_train_error 34.80% test_error 38.70%\n",
      "65 acc_train_loss 586.61 acc_train_error 33.20% test_error 37.20%\n",
      "66 acc_train_loss 578.51 acc_train_error 31.80% test_error 36.10%\n",
      "67 acc_train_loss 570.18 acc_train_error 31.00% test_error 35.30%\n",
      "68 acc_train_loss 561.63 acc_train_error 30.20% test_error 33.70%\n",
      "69 acc_train_loss 552.98 acc_train_error 29.80% test_error 33.50%\n",
      "70 acc_train_loss 544.34 acc_train_error 28.70% test_error 32.70%\n",
      "71 acc_train_loss 535.87 acc_train_error 27.60% test_error 32.40%\n",
      "72 acc_train_loss 527.72 acc_train_error 26.20% test_error 31.50%\n",
      "73 acc_train_loss 519.99 acc_train_error 24.40% test_error 30.90%\n",
      "74 acc_train_loss 512.76 acc_train_error 24.00% test_error 30.30%\n",
      "75 acc_train_loss 506.09 acc_train_error 23.60% test_error 30.30%\n",
      "76 acc_train_loss 499.98 acc_train_error 22.80% test_error 30.00%\n",
      "77 acc_train_loss 494.41 acc_train_error 22.50% test_error 29.30%\n",
      "78 acc_train_loss 489.34 acc_train_error 22.20% test_error 28.90%\n",
      "79 acc_train_loss 484.72 acc_train_error 22.00% test_error 28.70%\n",
      "80 acc_train_loss 480.47 acc_train_error 21.60% test_error 28.20%\n",
      "81 acc_train_loss 476.56 acc_train_error 21.60% test_error 28.20%\n",
      "82 acc_train_loss 472.93 acc_train_error 21.40% test_error 28.10%\n",
      "83 acc_train_loss 469.58 acc_train_error 21.50% test_error 27.40%\n",
      "84 acc_train_loss 466.61 acc_train_error 20.70% test_error 28.10%\n",
      "85 acc_train_loss 464.49 acc_train_error 21.30% test_error 27.30%\n",
      "86 acc_train_loss 464.75 acc_train_error 19.30% test_error 29.10%\n",
      "87 acc_train_loss 472.06 acc_train_error 22.40% test_error 25.90%\n",
      "88 acc_train_loss 496.83 acc_train_error 19.50% test_error 37.50%\n",
      "89 acc_train_loss 539.86 acc_train_error 30.20% test_error 26.50%\n",
      "90 acc_train_loss 535.47 acc_train_error 19.30% test_error 30.70%\n",
      "91 acc_train_loss 481.25 acc_train_error 23.90% test_error 25.80%\n",
      "92 acc_train_loss 453.99 acc_train_error 18.40% test_error 26.60%\n",
      "93 acc_train_loss 452.58 acc_train_error 19.10% test_error 27.50%\n",
      "94 acc_train_loss 463.09 acc_train_error 18.90% test_error 30.00%\n",
      "95 acc_train_loss 495.58 acc_train_error 20.80% test_error 32.30%\n",
      "96 acc_train_loss 530.35 acc_train_error 23.80% test_error 32.10%\n",
      "97 acc_train_loss 513.95 acc_train_error 22.30% test_error 28.10%\n",
      "98 acc_train_loss 462.37 acc_train_error 19.10% test_error 26.50%\n",
      "99 acc_train_loss 466.92 acc_train_error 19.10% test_error 30.60%\n"
     ]
    }
   ],
   "source": [
    "def forward_pass(w1, b1, w2, b2, x):\n",
    "    x0 = x\n",
    "    s1 = w1.mv(x0) + b1\n",
    "    x1 = sigma(s1)\n",
    "    s2 = w2.mv(x1) + b2\n",
    "    x2 = sigma(s2)\n",
    "\n",
    "    return x0, s1, x1, s2, x2\n",
    "\n",
    "def backward_pass(w1, b1, w2, b2,\n",
    "                  t,\n",
    "                  x, s1, x1, s2, x2,\n",
    "                  dl_dw1, dl_db1, dl_dw2, dl_db2):\n",
    "    x0 = x\n",
    "    dl_dx2 = dloss(x2, t)\n",
    "    dl_ds2 = dsigma(s2) * dl_dx2\n",
    "    dl_dx1 = w2.t().mv(dl_ds2)\n",
    "    dl_ds1 = dsigma(s1) * dl_dx1\n",
    "\n",
    "    dl_dw2.add_(dl_ds2.view(-1, 1).mm(x1.view(1, -1)))\n",
    "    dl_db2.add_(dl_ds2)\n",
    "    dl_dw1.add_(dl_ds1.view(-1, 1).mm(x0.view(1, -1)))\n",
    "    dl_db1.add_(dl_ds1)\n",
    "\n",
    "######################################################################\n",
    "\n",
    "train_input, train_target, test_input, test_target = prologue.load_data(one_hot_labels = True,\n",
    "                                                                        normalize = True)\n",
    "\n",
    "nb_classes = train_target.size(1)\n",
    "nb_train_samples = train_input.size(0)\n",
    "\n",
    "zeta = 0.90\n",
    "\n",
    "train_input = train_input * zeta\n",
    "test_input = test_input * zeta\n",
    "\n",
    "nb_hidden = 50\n",
    "eta = 1e-1 / nb_train_samples\n",
    "epsilon = 1e-6\n",
    "\n",
    "w1 = torch.empty(nb_hidden, train_input.size(1)).normal_(0, epsilon)\n",
    "b1 = torch.empty(nb_hidden).normal_(0, epsilon)\n",
    "w2 = torch.empty(nb_classes, nb_hidden).normal_(0, epsilon)\n",
    "b2 = torch.empty(nb_classes).normal_(0, epsilon)\n",
    "\n",
    "dl_dw1 = torch.empty(w1.size())\n",
    "dl_db1 = torch.empty(b1.size())\n",
    "dl_dw2 = torch.empty(w2.size())\n",
    "dl_db2 = torch.empty(b2.size())\n",
    "\n",
    "for k in range(100):\n",
    "\n",
    "    # Back-prop\n",
    "\n",
    "    acc_loss = 0\n",
    "    nb_train_errors = 0\n",
    "\n",
    "    dl_dw1.zero_()\n",
    "    dl_db1.zero_()\n",
    "    dl_dw2.zero_()\n",
    "    dl_db2.zero_()\n",
    "\n",
    "    for n in range(nb_train_samples):\n",
    "        x0, s1, x1, s2, x2 = forward_pass(w1, b1, w2, b2, train_input[n])\n",
    "\n",
    "        pred = x2.max(0)[1].item()\n",
    "        if train_target[n, pred] < 0.5: nb_train_errors = nb_train_errors + 1\n",
    "        acc_loss = acc_loss + loss(x2, train_target[n])\n",
    "\n",
    "        backward_pass(w1, b1, w2, b2,\n",
    "                      train_target[n],\n",
    "                      x0, s1, x1, s2, x2,\n",
    "                      dl_dw1, dl_db1, dl_dw2, dl_db2)\n",
    "\n",
    "    # Gradient step\n",
    "\n",
    "    w1 = w1 - eta * dl_dw1\n",
    "    b1 = b1 - eta * dl_db1\n",
    "    w2 = w2 - eta * dl_dw2\n",
    "    b2 = b2 - eta * dl_db2\n",
    "\n",
    "    # Test error\n",
    "\n",
    "    nb_test_errors = 0\n",
    "\n",
    "    for n in range(test_input.size(0)):\n",
    "        _, _, _, _, x2 = forward_pass(w1, b1, w2, b2, test_input[n])\n",
    "\n",
    "        pred = x2.max(0)[1].item()\n",
    "        if test_target[n, pred] < 0.5: nb_test_errors = nb_test_errors + 1\n",
    "\n",
    "    print('{:d} acc_train_loss {:.02f} acc_train_error {:.02f}% test_error {:.02f}%'\n",
    "          .format(k,\n",
    "                  acc_loss,\n",
    "                  (100 * nb_train_errors) / train_input.size(0),\n",
    "                  (100 * nb_test_errors) / test_input.size(0)))"
   ]
  },
  {
   "cell_type": "markdown",
   "metadata": {},
   "source": [
    "Net is converging so I stopped in the middle"
   ]
  },
  {
   "cell_type": "code",
   "execution_count": null,
   "metadata": {},
   "outputs": [],
   "source": []
  },
  {
   "cell_type": "code",
   "execution_count": null,
   "metadata": {},
   "outputs": [],
   "source": []
  }
 ],
 "metadata": {
  "kernelspec": {
   "display_name": "Anaconda3 (base)",
   "language": "python",
   "name": "anaconda3"
  },
  "language_info": {
   "codemirror_mode": {
    "name": "ipython",
    "version": 3
   },
   "file_extension": ".py",
   "mimetype": "text/x-python",
   "name": "python",
   "nbconvert_exporter": "python",
   "pygments_lexer": "ipython3",
   "version": "3.7.3"
  }
 },
 "nbformat": 4,
 "nbformat_minor": 2
}
