{
 "cells": [
  {
   "cell_type": "code",
   "execution_count": 1,
   "metadata": {},
   "outputs": [],
   "source": [
    "import math\n",
    "import torch\n",
    "import os"
   ]
  },
  {
   "cell_type": "code",
   "execution_count": 2,
   "metadata": {},
   "outputs": [
    {
     "data": {
      "text/plain": [
       "'C:\\\\Users\\\\zeogo\\\\Documents\\\\ML books\\\\Pytorch course\\\\exercises practical'"
      ]
     },
     "execution_count": 2,
     "metadata": {},
     "output_type": "execute_result"
    }
   ],
   "source": [
    "os.getcwd()"
   ]
  },
  {
   "cell_type": "code",
   "execution_count": 3,
   "metadata": {},
   "outputs": [],
   "source": [
    "os.chdir(\"..\")"
   ]
  },
  {
   "cell_type": "code",
   "execution_count": 4,
   "metadata": {},
   "outputs": [],
   "source": [
    "import torch\n",
    "import torchvision\n",
    "import dlc_practical_prologue as prologue"
   ]
  },
  {
   "cell_type": "code",
   "execution_count": 6,
   "metadata": {},
   "outputs": [],
   "source": [
    "def sigma(x):\n",
    "    active = x.tanh()\n",
    "    return active"
   ]
  },
  {
   "cell_type": "code",
   "execution_count": 18,
   "metadata": {},
   "outputs": [],
   "source": [
    "def dsigma(x):\n",
    "    return (1 - torch.pow(x.tanh(), 2))"
   ]
  },
  {
   "cell_type": "code",
   "execution_count": 25,
   "metadata": {},
   "outputs": [],
   "source": [
    "def loss(v, t):\n",
    "    return (v - t).pow(2).sum()"
   ]
  },
  {
   "cell_type": "code",
   "execution_count": 26,
   "metadata": {},
   "outputs": [],
   "source": [
    "def dloss(v, t):\n",
    "    return 2*(v - t)"
   ]
  },
  {
   "cell_type": "code",
   "execution_count": 27,
   "metadata": {},
   "outputs": [
    {
     "name": "stdout",
     "output_type": "stream",
     "text": [
      "* Using MNIST\n",
      "Downloading http://yann.lecun.com/exdb/mnist/train-images-idx3-ubyte.gz to ./data/mnist/MNIST\\raw\\train-images-idx3-ubyte.gz\n"
     ]
    },
    {
     "name": "stderr",
     "output_type": "stream",
     "text": [
      " 99%|███████████████████████████████████████████████████████████████████▌| 9846784/9912422 [00:23<00:00, 853730.44it/s]"
     ]
    },
    {
     "name": "stdout",
     "output_type": "stream",
     "text": [
      "Extracting ./data/mnist/MNIST\\raw\\train-images-idx3-ubyte.gz to ./data/mnist/MNIST\\raw\n",
      "Downloading http://yann.lecun.com/exdb/mnist/train-labels-idx1-ubyte.gz to ./data/mnist/MNIST\\raw\\train-labels-idx1-ubyte.gz\n"
     ]
    },
    {
     "name": "stderr",
     "output_type": "stream",
     "text": [
      "\n",
      "0it [00:00, ?it/s]\n",
      "  0%|                                                                                        | 0/28881 [00:00<?, ?it/s]\n",
      " 57%|████████████████████████████████████████▊                               | 16384/28881 [00:00<00:00, 105801.38it/s]\n",
      "32768it [00:00, 63438.54it/s]                                                                                          "
     ]
    },
    {
     "name": "stdout",
     "output_type": "stream",
     "text": [
      "Extracting ./data/mnist/MNIST\\raw\\train-labels-idx1-ubyte.gz to ./data/mnist/MNIST\\raw\n",
      "Downloading http://yann.lecun.com/exdb/mnist/t10k-images-idx3-ubyte.gz to ./data/mnist/MNIST\\raw\\t10k-images-idx3-ubyte.gz\n"
     ]
    },
    {
     "name": "stderr",
     "output_type": "stream",
     "text": [
      "\n",
      "0it [00:00, ?it/s]\n",
      "  0%|                                                                                      | 0/1648877 [00:00<?, ?it/s]\n",
      "  1%|▋                                                                      | 16384/1648877 [00:00<00:20, 80475.78it/s]\n",
      "  3%|██                                                                     | 49152/1648877 [00:00<00:16, 99465.60it/s]\n",
      "  6%|████▏                                                                 | 98304/1648877 [00:00<00:12, 126418.47it/s]\n",
      " 10%|██████▊                                                              | 163840/1648877 [00:00<00:09, 160757.73it/s]\n",
      " 15%|██████████▎                                                          | 245760/1648877 [00:01<00:06, 202949.04it/s]\n",
      " 20%|█████████████▋                                                       | 327680/1648877 [00:01<00:05, 250984.07it/s]\n",
      " 25%|█████████████████▏                                                   | 409600/1648877 [00:01<00:04, 302567.84it/s]\n",
      " 30%|████████████████████▉                                                | 499712/1648877 [00:01<00:03, 363786.71it/s]\n",
      " 36%|█████████████████████████                                            | 598016/1648877 [00:01<00:02, 412653.20it/s]\n",
      " 42%|█████████████████████████████▏                                       | 696320/1648877 [00:01<00:02, 460404.32it/s]\n",
      " 48%|█████████████████████████████████▎                                   | 794624/1648877 [00:01<00:01, 547491.47it/s]\n",
      " 53%|████████████████████████████████████▎                                | 868352/1648877 [00:02<00:01, 587274.57it/s]\n",
      " 57%|███████████████████████████████████████▍                             | 942080/1648877 [00:02<00:01, 556893.76it/s]\n",
      " 63%|██████████████████████████████████████████▌                         | 1032192/1648877 [00:02<00:00, 627434.68it/s]\n",
      " 69%|██████████████████████████████████████████████▉                     | 1138688/1648877 [00:02<00:00, 702146.57it/s]\n",
      " 75%|███████████████████████████████████████████████████                 | 1236992/1648877 [00:02<00:00, 725617.75it/s]\n",
      " 80%|██████████████████████████████████████████████████████▍             | 1318912/1648877 [00:02<00:00, 729822.59it/s]\n",
      " 86%|██████████████████████████████████████████████████████████▍         | 1417216/1648877 [00:02<00:00, 790941.75it/s]\n",
      " 93%|███████████████████████████████████████████████████████████████▌    | 1540096/1648877 [00:02<00:00, 846045.84it/s]\n",
      "100%|███████████████████████████████████████████████████████████████████▉| 1646592/1648877 [00:02<00:00, 893013.42it/s]\n",
      "1654784it [00:03, 549293.88it/s]                                                                                       "
     ]
    },
    {
     "name": "stdout",
     "output_type": "stream",
     "text": [
      "Extracting ./data/mnist/MNIST\\raw\\t10k-images-idx3-ubyte.gz to ./data/mnist/MNIST\\raw\n",
      "Downloading http://yann.lecun.com/exdb/mnist/t10k-labels-idx1-ubyte.gz to ./data/mnist/MNIST\\raw\\t10k-labels-idx1-ubyte.gz\n"
     ]
    },
    {
     "name": "stderr",
     "output_type": "stream",
     "text": [
      "\n",
      "0it [00:00, ?it/s]\n",
      "  0%|                                                                                         | 0/4542 [00:00<?, ?it/s]\n",
      "8192it [00:00, 24162.35it/s]                                                                                           "
     ]
    },
    {
     "name": "stdout",
     "output_type": "stream",
     "text": [
      "Extracting ./data/mnist/MNIST\\raw\\t10k-labels-idx1-ubyte.gz to ./data/mnist/MNIST\\raw\n",
      "Processing...\n",
      "Done!\n",
      "** Reduce the data-set (use --full for the full thing)\n",
      "** Use 1000 train and 1000 test samples\n",
      "0 acc_train_loss 1000.00 acc_train_error 91.30% test_error 90.10%\n",
      "1 acc_train_loss 963.68 acc_train_error 88.30% test_error 90.10%\n",
      "2 acc_train_loss 940.46 acc_train_error 88.30% test_error 90.10%\n",
      "3 acc_train_loss 925.61 acc_train_error 88.30% test_error 90.10%\n",
      "4 acc_train_loss 916.12 acc_train_error 88.30% test_error 90.10%\n",
      "5 acc_train_loss 910.04 acc_train_error 88.30% test_error 90.10%\n",
      "6 acc_train_loss 906.14 acc_train_error 88.30% test_error 90.10%\n",
      "7 acc_train_loss 903.63 acc_train_error 88.30% test_error 90.10%\n",
      "8 acc_train_loss 902.02 acc_train_error 88.30% test_error 90.10%\n",
      "9 acc_train_loss 900.98 acc_train_error 88.30% test_error 90.10%\n",
      "10 acc_train_loss 900.32 acc_train_error 88.30% test_error 90.10%\n",
      "11 acc_train_loss 899.88 acc_train_error 88.30% test_error 90.10%\n",
      "12 acc_train_loss 899.61 acc_train_error 88.30% test_error 90.10%\n",
      "13 acc_train_loss 899.43 acc_train_error 88.30% test_error 90.10%\n",
      "14 acc_train_loss 899.31 acc_train_error 88.30% test_error 90.10%\n",
      "15 acc_train_loss 899.24 acc_train_error 88.30% test_error 90.10%\n"
     ]
    },
    {
     "name": "stderr",
     "output_type": "stream",
     "text": [
      "\r",
      "9920512it [00:40, 853730.44it/s]                                                                                       "
     ]
    },
    {
     "name": "stdout",
     "output_type": "stream",
     "text": [
      "16 acc_train_loss 899.19 acc_train_error 88.30% test_error 90.10%\n",
      "17 acc_train_loss 899.16 acc_train_error 88.30% test_error 90.10%\n",
      "18 acc_train_loss 899.13 acc_train_error 88.30% test_error 90.10%\n",
      "19 acc_train_loss 899.12 acc_train_error 88.30% test_error 90.10%\n",
      "20 acc_train_loss 899.10 acc_train_error 88.30% test_error 90.10%\n",
      "21 acc_train_loss 899.08 acc_train_error 88.30% test_error 90.10%\n",
      "22 acc_train_loss 899.05 acc_train_error 88.30% test_error 90.10%\n",
      "23 acc_train_loss 899.01 acc_train_error 88.30% test_error 90.10%\n",
      "24 acc_train_loss 898.93 acc_train_error 88.30% test_error 90.10%\n",
      "25 acc_train_loss 898.80 acc_train_error 88.30% test_error 90.10%\n",
      "26 acc_train_loss 898.56 acc_train_error 88.30% test_error 85.00%\n",
      "27 acc_train_loss 898.15 acc_train_error 81.00% test_error 79.20%\n",
      "28 acc_train_loss 897.41 acc_train_error 78.50% test_error 79.20%\n",
      "29 acc_train_loss 896.12 acc_train_error 78.60% test_error 79.10%\n",
      "30 acc_train_loss 893.90 acc_train_error 77.20% test_error 75.50%\n",
      "31 acc_train_loss 890.12 acc_train_error 71.70% test_error 73.50%\n",
      "32 acc_train_loss 883.97 acc_train_error 70.70% test_error 73.60%\n",
      "33 acc_train_loss 874.49 acc_train_error 70.80% test_error 74.00%\n",
      "34 acc_train_loss 861.12 acc_train_error 71.30% test_error 74.20%\n",
      "35 acc_train_loss 844.32 acc_train_error 71.30% test_error 73.80%\n",
      "36 acc_train_loss 825.79 acc_train_error 71.00% test_error 73.00%\n",
      "37 acc_train_loss 807.54 acc_train_error 70.20% test_error 72.30%\n",
      "38 acc_train_loss 790.63 acc_train_error 69.00% test_error 71.20%\n",
      "39 acc_train_loss 775.68 acc_train_error 68.60% test_error 70.30%\n",
      "40 acc_train_loss 763.64 acc_train_error 67.70% test_error 69.70%\n",
      "41 acc_train_loss 754.88 acc_train_error 67.30% test_error 69.50%\n",
      "42 acc_train_loss 748.41 acc_train_error 66.80% test_error 68.90%\n",
      "43 acc_train_loss 742.64 acc_train_error 65.50% test_error 66.80%\n",
      "44 acc_train_loss 736.36 acc_train_error 63.00% test_error 64.70%\n",
      "45 acc_train_loss 728.95 acc_train_error 61.00% test_error 62.60%\n",
      "46 acc_train_loss 720.31 acc_train_error 57.40% test_error 59.30%\n",
      "47 acc_train_loss 710.83 acc_train_error 53.90% test_error 56.60%\n",
      "48 acc_train_loss 701.33 acc_train_error 50.10% test_error 55.10%\n",
      "49 acc_train_loss 692.73 acc_train_error 48.40% test_error 53.90%\n",
      "50 acc_train_loss 685.62 acc_train_error 47.20% test_error 52.30%\n",
      "51 acc_train_loss 680.01 acc_train_error 46.40% test_error 51.30%\n",
      "52 acc_train_loss 675.44 acc_train_error 45.80% test_error 50.50%\n",
      "53 acc_train_loss 671.32 acc_train_error 45.30% test_error 49.70%\n",
      "54 acc_train_loss 667.18 acc_train_error 44.90% test_error 48.80%\n",
      "55 acc_train_loss 662.68 acc_train_error 44.40% test_error 48.20%\n",
      "56 acc_train_loss 657.60 acc_train_error 43.50% test_error 47.20%\n",
      "57 acc_train_loss 651.83 acc_train_error 42.80% test_error 46.30%\n",
      "58 acc_train_loss 645.32 acc_train_error 42.40% test_error 45.70%\n",
      "59 acc_train_loss 638.11 acc_train_error 41.40% test_error 45.10%\n",
      "60 acc_train_loss 630.30 acc_train_error 40.70% test_error 43.60%\n",
      "61 acc_train_loss 622.05 acc_train_error 40.10% test_error 42.80%\n",
      "62 acc_train_loss 613.52 acc_train_error 38.50% test_error 41.20%\n",
      "63 acc_train_loss 604.84 acc_train_error 36.20% test_error 39.70%\n",
      "64 acc_train_loss 596.07 acc_train_error 34.60% test_error 38.30%\n",
      "65 acc_train_loss 587.21 acc_train_error 32.70% test_error 36.70%\n",
      "66 acc_train_loss 578.25 acc_train_error 31.90% test_error 35.30%\n",
      "67 acc_train_loss 569.20 acc_train_error 30.80% test_error 34.00%\n",
      "68 acc_train_loss 560.13 acc_train_error 30.00% test_error 33.20%\n",
      "69 acc_train_loss 551.12 acc_train_error 29.30% test_error 32.40%\n",
      "70 acc_train_loss 542.28 acc_train_error 28.10% test_error 32.20%\n",
      "71 acc_train_loss 533.70 acc_train_error 26.90% test_error 31.50%\n",
      "72 acc_train_loss 525.48 acc_train_error 25.50% test_error 30.50%\n",
      "73 acc_train_loss 517.67 acc_train_error 24.20% test_error 29.90%\n"
     ]
    },
    {
     "ename": "KeyboardInterrupt",
     "evalue": "",
     "output_type": "error",
     "traceback": [
      "\u001b[1;31m---------------------------------------------------------------------------\u001b[0m",
      "\u001b[1;31mKeyboardInterrupt\u001b[0m                         Traceback (most recent call last)",
      "\u001b[1;32m<ipython-input-27-544a60676a9b>\u001b[0m in \u001b[0;36m<module>\u001b[1;34m\u001b[0m\n\u001b[0;32m     63\u001b[0m \u001b[1;33m\u001b[0m\u001b[0m\n\u001b[0;32m     64\u001b[0m     \u001b[1;32mfor\u001b[0m \u001b[0mn\u001b[0m \u001b[1;32min\u001b[0m \u001b[0mrange\u001b[0m\u001b[1;33m(\u001b[0m\u001b[0mnb_train_samples\u001b[0m\u001b[1;33m)\u001b[0m\u001b[1;33m:\u001b[0m\u001b[1;33m\u001b[0m\u001b[1;33m\u001b[0m\u001b[0m\n\u001b[1;32m---> 65\u001b[1;33m         \u001b[0mx0\u001b[0m\u001b[1;33m,\u001b[0m \u001b[0ms1\u001b[0m\u001b[1;33m,\u001b[0m \u001b[0mx1\u001b[0m\u001b[1;33m,\u001b[0m \u001b[0ms2\u001b[0m\u001b[1;33m,\u001b[0m \u001b[0mx2\u001b[0m \u001b[1;33m=\u001b[0m \u001b[0mforward_pass\u001b[0m\u001b[1;33m(\u001b[0m\u001b[0mw1\u001b[0m\u001b[1;33m,\u001b[0m \u001b[0mb1\u001b[0m\u001b[1;33m,\u001b[0m \u001b[0mw2\u001b[0m\u001b[1;33m,\u001b[0m \u001b[0mb2\u001b[0m\u001b[1;33m,\u001b[0m \u001b[0mtrain_input\u001b[0m\u001b[1;33m[\u001b[0m\u001b[0mn\u001b[0m\u001b[1;33m]\u001b[0m\u001b[1;33m)\u001b[0m\u001b[1;33m\u001b[0m\u001b[1;33m\u001b[0m\u001b[0m\n\u001b[0m\u001b[0;32m     66\u001b[0m \u001b[1;33m\u001b[0m\u001b[0m\n\u001b[0;32m     67\u001b[0m         \u001b[0mpred\u001b[0m \u001b[1;33m=\u001b[0m \u001b[0mx2\u001b[0m\u001b[1;33m.\u001b[0m\u001b[0mmax\u001b[0m\u001b[1;33m(\u001b[0m\u001b[1;36m0\u001b[0m\u001b[1;33m)\u001b[0m\u001b[1;33m[\u001b[0m\u001b[1;36m1\u001b[0m\u001b[1;33m]\u001b[0m\u001b[1;33m.\u001b[0m\u001b[0mitem\u001b[0m\u001b[1;33m(\u001b[0m\u001b[1;33m)\u001b[0m\u001b[1;33m\u001b[0m\u001b[1;33m\u001b[0m\u001b[0m\n",
      "\u001b[1;32m<ipython-input-27-544a60676a9b>\u001b[0m in \u001b[0;36mforward_pass\u001b[1;34m(w1, b1, w2, b2, x)\u001b[0m\n\u001b[0;32m      1\u001b[0m \u001b[1;32mdef\u001b[0m \u001b[0mforward_pass\u001b[0m\u001b[1;33m(\u001b[0m\u001b[0mw1\u001b[0m\u001b[1;33m,\u001b[0m \u001b[0mb1\u001b[0m\u001b[1;33m,\u001b[0m \u001b[0mw2\u001b[0m\u001b[1;33m,\u001b[0m \u001b[0mb2\u001b[0m\u001b[1;33m,\u001b[0m \u001b[0mx\u001b[0m\u001b[1;33m)\u001b[0m\u001b[1;33m:\u001b[0m\u001b[1;33m\u001b[0m\u001b[1;33m\u001b[0m\u001b[0m\n\u001b[0;32m      2\u001b[0m     \u001b[0mx0\u001b[0m \u001b[1;33m=\u001b[0m \u001b[0mx\u001b[0m\u001b[1;33m\u001b[0m\u001b[1;33m\u001b[0m\u001b[0m\n\u001b[1;32m----> 3\u001b[1;33m     \u001b[0ms1\u001b[0m \u001b[1;33m=\u001b[0m \u001b[0mw1\u001b[0m\u001b[1;33m.\u001b[0m\u001b[0mmv\u001b[0m\u001b[1;33m(\u001b[0m\u001b[0mx0\u001b[0m\u001b[1;33m)\u001b[0m \u001b[1;33m+\u001b[0m \u001b[0mb1\u001b[0m\u001b[1;33m\u001b[0m\u001b[1;33m\u001b[0m\u001b[0m\n\u001b[0m\u001b[0;32m      4\u001b[0m     \u001b[0mx1\u001b[0m \u001b[1;33m=\u001b[0m \u001b[0msigma\u001b[0m\u001b[1;33m(\u001b[0m\u001b[0ms1\u001b[0m\u001b[1;33m)\u001b[0m\u001b[1;33m\u001b[0m\u001b[1;33m\u001b[0m\u001b[0m\n\u001b[0;32m      5\u001b[0m     \u001b[0ms2\u001b[0m \u001b[1;33m=\u001b[0m \u001b[0mw2\u001b[0m\u001b[1;33m.\u001b[0m\u001b[0mmv\u001b[0m\u001b[1;33m(\u001b[0m\u001b[0mx1\u001b[0m\u001b[1;33m)\u001b[0m \u001b[1;33m+\u001b[0m \u001b[0mb2\u001b[0m\u001b[1;33m\u001b[0m\u001b[1;33m\u001b[0m\u001b[0m\n",
      "\u001b[1;31mKeyboardInterrupt\u001b[0m: "
     ]
    }
   ],
   "source": [
    "def forward_pass(w1, b1, w2, b2, x):\n",
    "    x0 = x\n",
    "    s1 = w1.mv(x0) + b1\n",
    "    x1 = sigma(s1)\n",
    "    s2 = w2.mv(x1) + b2\n",
    "    x2 = sigma(s2)\n",
    "\n",
    "    return x0, s1, x1, s2, x2\n",
    "\n",
    "def backward_pass(w1, b1, w2, b2,\n",
    "                  t,\n",
    "                  x, s1, x1, s2, x2,\n",
    "                  dl_dw1, dl_db1, dl_dw2, dl_db2):\n",
    "    x0 = x\n",
    "    dl_dx2 = dloss(x2, t)\n",
    "    dl_ds2 = dsigma(s2) * dl_dx2\n",
    "    dl_dx1 = w2.t().mv(dl_ds2)\n",
    "    dl_ds1 = dsigma(s1) * dl_dx1\n",
    "\n",
    "    dl_dw2.add_(dl_ds2.view(-1, 1).mm(x1.view(1, -1)))\n",
    "    dl_db2.add_(dl_ds2)\n",
    "    dl_dw1.add_(dl_ds1.view(-1, 1).mm(x0.view(1, -1)))\n",
    "    dl_db1.add_(dl_ds1)\n",
    "\n",
    "######################################################################\n",
    "\n",
    "train_input, train_target, test_input, test_target = prologue.load_data(one_hot_labels = True,\n",
    "                                                                        normalize = True)\n",
    "\n",
    "nb_classes = train_target.size(1)\n",
    "nb_train_samples = train_input.size(0)\n",
    "\n",
    "zeta = 0.90\n",
    "\n",
    "train_input = train_input * zeta\n",
    "test_input = test_input * zeta\n",
    "\n",
    "nb_hidden = 50\n",
    "eta = 1e-1 / nb_train_samples\n",
    "epsilon = 1e-6\n",
    "\n",
    "w1 = torch.empty(nb_hidden, train_input.size(1)).normal_(0, epsilon)\n",
    "b1 = torch.empty(nb_hidden).normal_(0, epsilon)\n",
    "w2 = torch.empty(nb_classes, nb_hidden).normal_(0, epsilon)\n",
    "b2 = torch.empty(nb_classes).normal_(0, epsilon)\n",
    "\n",
    "dl_dw1 = torch.empty(w1.size())\n",
    "dl_db1 = torch.empty(b1.size())\n",
    "dl_dw2 = torch.empty(w2.size())\n",
    "dl_db2 = torch.empty(b2.size())\n",
    "\n",
    "for k in range(1000):\n",
    "\n",
    "    # Back-prop\n",
    "\n",
    "    acc_loss = 0\n",
    "    nb_train_errors = 0\n",
    "\n",
    "    dl_dw1.zero_()\n",
    "    dl_db1.zero_()\n",
    "    dl_dw2.zero_()\n",
    "    dl_db2.zero_()\n",
    "\n",
    "    for n in range(nb_train_samples):\n",
    "        x0, s1, x1, s2, x2 = forward_pass(w1, b1, w2, b2, train_input[n])\n",
    "\n",
    "        pred = x2.max(0)[1].item()\n",
    "        if train_target[n, pred] < 0.5: nb_train_errors = nb_train_errors + 1\n",
    "        acc_loss = acc_loss + loss(x2, train_target[n])\n",
    "\n",
    "        backward_pass(w1, b1, w2, b2,\n",
    "                      train_target[n],\n",
    "                      x0, s1, x1, s2, x2,\n",
    "                      dl_dw1, dl_db1, dl_dw2, dl_db2)\n",
    "\n",
    "    # Gradient step\n",
    "\n",
    "    w1 = w1 - eta * dl_dw1\n",
    "    b1 = b1 - eta * dl_db1\n",
    "    w2 = w2 - eta * dl_dw2\n",
    "    b2 = b2 - eta * dl_db2\n",
    "\n",
    "    # Test error\n",
    "\n",
    "    nb_test_errors = 0\n",
    "\n",
    "    for n in range(test_input.size(0)):\n",
    "        _, _, _, _, x2 = forward_pass(w1, b1, w2, b2, test_input[n])\n",
    "\n",
    "        pred = x2.max(0)[1].item()\n",
    "        if test_target[n, pred] < 0.5: nb_test_errors = nb_test_errors + 1\n",
    "\n",
    "    print('{:d} acc_train_loss {:.02f} acc_train_error {:.02f}% test_error {:.02f}%'\n",
    "          .format(k,\n",
    "                  acc_loss,\n",
    "                  (100 * nb_train_errors) / train_input.size(0),\n",
    "                  (100 * nb_test_errors) / test_input.size(0)))"
   ]
  },
  {
   "cell_type": "code",
   "execution_count": null,
   "metadata": {},
   "outputs": [],
   "source": []
  }
 ],
 "metadata": {
  "kernelspec": {
   "display_name": "Anaconda3 (base)",
   "language": "python",
   "name": "anaconda3"
  },
  "language_info": {
   "codemirror_mode": {
    "name": "ipython",
    "version": 3
   },
   "file_extension": ".py",
   "mimetype": "text/x-python",
   "name": "python",
   "nbconvert_exporter": "python",
   "pygments_lexer": "ipython3",
   "version": "3.7.3"
  }
 },
 "nbformat": 4,
 "nbformat_minor": 2
}
