{
 "cells": [
  {
   "cell_type": "code",
   "execution_count": 1,
   "metadata": {},
   "outputs": [],
   "source": [
    "import torch, time\n"
   ]
  },
  {
   "cell_type": "markdown",
   "metadata": {},
   "source": [
    "### exercise 1"
   ]
  },
  {
   "cell_type": "code",
   "execution_count": 3,
   "metadata": {},
   "outputs": [],
   "source": [
    "a = torch.Tensor(4,5).zero_()"
   ]
  },
  {
   "cell_type": "code",
   "execution_count": 4,
   "metadata": {},
   "outputs": [],
   "source": [
    "x = torch.LongTensor([[1, 3, 0],\n",
    "                     [2, 4, 6]])"
   ]
  },
  {
   "cell_type": "code",
   "execution_count": 5,
   "metadata": {},
   "outputs": [
    {
     "data": {
      "text/plain": [
       "tensor([1, 3, 0, 2, 4, 6])"
      ]
     },
     "execution_count": 5,
     "metadata": {},
     "output_type": "execute_result"
    }
   ],
   "source": [
    "x.view(-1)"
   ]
  },
  {
   "cell_type": "code",
   "execution_count": 6,
   "metadata": {},
   "outputs": [
    {
     "data": {
      "text/plain": [
       "tensor([[[1, 3, 0],\n",
       "         [2, 4, 6]],\n",
       "\n",
       "        [[1, 3, 0],\n",
       "         [2, 4, 6]],\n",
       "\n",
       "        [[1, 3, 0],\n",
       "         [2, 4, 6]]])"
      ]
     },
     "execution_count": 6,
     "metadata": {},
     "output_type": "execute_result"
    }
   ],
   "source": [
    "x.view(1,2,3).expand(3,2,3)"
   ]
  },
  {
   "cell_type": "code",
   "execution_count": 26,
   "metadata": {},
   "outputs": [
    {
     "name": "stdout",
     "output_type": "stream",
     "text": [
      "tensor([[1, 2, 1, 1, 1, 1, 2, 1, 1, 1, 1, 2, 1],\n",
      "        [2, 2, 2, 2, 2, 2, 2, 2, 2, 2, 2, 2, 2],\n",
      "        [1, 2, 1, 1, 1, 1, 2, 1, 1, 1, 1, 2, 1],\n",
      "        [1, 2, 1, 3, 3, 1, 2, 1, 3, 3, 1, 2, 1],\n",
      "        [1, 2, 1, 3, 3, 1, 2, 1, 3, 3, 1, 2, 1],\n",
      "        [1, 2, 1, 1, 1, 1, 2, 1, 1, 1, 1, 2, 1],\n",
      "        [2, 2, 2, 2, 2, 2, 2, 2, 2, 2, 2, 2, 2],\n",
      "        [1, 2, 1, 1, 1, 1, 2, 1, 1, 1, 1, 2, 1],\n",
      "        [1, 2, 1, 3, 3, 1, 2, 1, 3, 3, 1, 2, 1],\n",
      "        [1, 2, 1, 3, 3, 1, 2, 1, 3, 3, 1, 2, 1],\n",
      "        [1, 2, 1, 1, 1, 1, 2, 1, 1, 1, 1, 2, 1],\n",
      "        [2, 2, 2, 2, 2, 2, 2, 2, 2, 2, 2, 2, 2],\n",
      "        [1, 2, 1, 1, 1, 1, 2, 1, 1, 1, 1, 2, 1]], dtype=torch.int8)\n"
     ]
    }
   ],
   "source": [
    "\n",
    "\n",
    "m = torch.full((13, 13), 1.0, dtype = torch.int8)\n",
    "\n",
    "m[3:5, 3:5] = 3\n",
    "m[8:10, 3:5] = 3\n",
    "m[3:5, 8:10] = 3\n",
    "m[8:10, 8:10] = 3\n",
    "\n",
    "m[:, 1::5] = 2\n",
    "m[1::5, :] = 2\n",
    "\n",
    "print(m)"
   ]
  },
  {
   "cell_type": "markdown",
   "metadata": {},
   "source": [
    "### exercise2"
   ]
  },
  {
   "cell_type": "code",
   "execution_count": 8,
   "metadata": {},
   "outputs": [],
   "source": [
    "M = torch.empty(20,20)\n",
    "M = M.normal_()\n",
    "Minv = M.inverse().float()\n",
    "D = torch.arange(20)\n",
    "P = D + 1\n",
    "diag = torch.diag(P)"
   ]
  },
  {
   "cell_type": "code",
   "execution_count": 9,
   "metadata": {},
   "outputs": [],
   "source": [
    "M = M.long()"
   ]
  },
  {
   "cell_type": "code",
   "execution_count": 10,
   "metadata": {},
   "outputs": [],
   "source": [
    "first = torch.mm(diag,M)"
   ]
  },
  {
   "cell_type": "code",
   "execution_count": 11,
   "metadata": {},
   "outputs": [],
   "source": [
    "Minv = Minv.long()"
   ]
  },
  {
   "cell_type": "code",
   "execution_count": 12,
   "metadata": {},
   "outputs": [],
   "source": [
    "result = torch.mm(Minv, first)"
   ]
  },
  {
   "cell_type": "code",
   "execution_count": 13,
   "metadata": {},
   "outputs": [],
   "source": [
    "result = result.float()"
   ]
  },
  {
   "cell_type": "code",
   "execution_count": 14,
   "metadata": {},
   "outputs": [],
   "source": [
    "eig,_ = torch.eig(result)"
   ]
  },
  {
   "cell_type": "code",
   "execution_count": 15,
   "metadata": {},
   "outputs": [
    {
     "data": {
      "text/plain": [
       "tensor([[ 9.3919e+01,  0.0000e+00],\n",
       "        [-6.9079e+00,  4.4851e+01],\n",
       "        [-6.9079e+00, -4.4851e+01],\n",
       "        [ 1.1811e+01,  1.9763e+01],\n",
       "        [ 1.1811e+01, -1.9763e+01],\n",
       "        [-1.5018e+01,  0.0000e+00],\n",
       "        [-1.2976e+01,  0.0000e+00],\n",
       "        [ 1.0165e+01,  1.8677e+00],\n",
       "        [ 1.0165e+01, -1.8677e+00],\n",
       "        [ 9.6863e-01,  4.7167e+00],\n",
       "        [ 9.6863e-01, -4.7167e+00],\n",
       "        [ 1.0504e-06,  9.2120e-07],\n",
       "        [ 1.0504e-06, -9.2120e-07],\n",
       "        [ 0.0000e+00,  0.0000e+00],\n",
       "        [ 0.0000e+00,  0.0000e+00],\n",
       "        [ 0.0000e+00,  0.0000e+00],\n",
       "        [ 0.0000e+00,  0.0000e+00],\n",
       "        [ 0.0000e+00,  0.0000e+00],\n",
       "        [ 0.0000e+00,  0.0000e+00],\n",
       "        [ 0.0000e+00,  0.0000e+00]])"
      ]
     },
     "execution_count": 15,
     "metadata": {},
     "output_type": "execute_result"
    }
   ],
   "source": [
    "eig"
   ]
  },
  {
   "cell_type": "code",
   "execution_count": 16,
   "metadata": {},
   "outputs": [
    {
     "name": "stdout",
     "output_type": "stream",
     "text": [
      "# 2 #\n",
      "Eigenvalues tensor([ 1.0000,  2.0000,  3.0000,  4.0000,  5.0000,  6.0000,  7.0000,  8.0000,\n",
      "         9.0000, 10.0000, 11.0000, 12.0000, 13.0000, 14.0000, 15.0000, 16.0000,\n",
      "        17.0000, 18.0000, 19.0000, 20.0000])\n"
     ]
    }
   ],
   "source": [
    "print('# 2 #')\n",
    "\n",
    "m = torch.empty(20, 20).normal_()\n",
    "d = torch.diag(torch.arange(1, m.size(0)+1).float())\n",
    "q = m.mm(d).mm(m.inverse())\n",
    "v, _ = q.eig()\n",
    "\n",
    "print('Eigenvalues', v[:, 0].sort()[0])"
   ]
  },
  {
   "cell_type": "markdown",
   "metadata": {},
   "source": [
    "### exercise 3"
   ]
  },
  {
   "cell_type": "code",
   "execution_count": 17,
   "metadata": {},
   "outputs": [],
   "source": [
    "\n",
    "# Use torch.empty, torch.normal˙, torch.mm, and time.perf˙counter.\n"
   ]
  },
  {
   "cell_type": "code",
   "execution_count": 18,
   "metadata": {},
   "outputs": [],
   "source": [
    "start_time = time.perf_counter()\n",
    "M1 = torch.empty(5000, 5000).normal_()\n",
    "M2 = torch.empty(5000, 5000).normal_()\n",
    "prod = torch.mm(M1,M2)\n",
    "\n",
    "end_time = time.perf_counter()\n",
    "\n",
    "estimated_time = end_time - start_time"
   ]
  },
  {
   "cell_type": "code",
   "execution_count": 19,
   "metadata": {},
   "outputs": [
    {
     "data": {
      "text/plain": [
       "3.881452979999949"
      ]
     },
     "execution_count": 19,
     "metadata": {},
     "output_type": "execute_result"
    }
   ],
   "source": [
    "estimated_time"
   ]
  },
  {
   "cell_type": "code",
   "execution_count": 20,
   "metadata": {},
   "outputs": [
    {
     "data": {
      "text/plain": [
       "5000"
      ]
     },
     "execution_count": 20,
     "metadata": {},
     "output_type": "execute_result"
    }
   ],
   "source": [
    "M1.size(0)"
   ]
  },
  {
   "cell_type": "markdown",
   "metadata": {},
   "source": [
    "number of actions taken per second:"
   ]
  },
  {
   "cell_type": "code",
   "execution_count": 27,
   "metadata": {},
   "outputs": [
    {
     "name": "stdout",
     "output_type": "stream",
     "text": [
      "32204434948.48201\n"
     ]
    }
   ],
   "source": [
    "result = (M1.size(0)**3 ) / estimated_time\n",
    "print(result)"
   ]
  },
  {
   "cell_type": "markdown",
   "metadata": {},
   "source": [
    "### exercise 4"
   ]
  },
  {
   "cell_type": "code",
   "execution_count": 99,
   "metadata": {},
   "outputs": [],
   "source": [
    "def mul_row(matrix):\n",
    "    num_of_rows = matrix.size(0)\n",
    "    new_vec = torch.arange(1, num_of_rows + 1).float()\n",
    "    new = new_vec.view( num_of_rows,1  )\n",
    "    result = matrix.mul(  new)\n",
    "    return result"
   ]
  },
  {
   "cell_type": "code",
   "execution_count": 100,
   "metadata": {},
   "outputs": [],
   "source": [
    "matrix = torch.Tensor(4,5).fill_(2.0)"
   ]
  },
  {
   "cell_type": "code",
   "execution_count": 101,
   "metadata": {},
   "outputs": [
    {
     "data": {
      "text/plain": [
       "tensor([[2., 2., 2., 2., 2.],\n",
       "        [2., 2., 2., 2., 2.],\n",
       "        [2., 2., 2., 2., 2.],\n",
       "        [2., 2., 2., 2., 2.]])"
      ]
     },
     "execution_count": 101,
     "metadata": {},
     "output_type": "execute_result"
    }
   ],
   "source": [
    "matrix"
   ]
  },
  {
   "cell_type": "code",
   "execution_count": 102,
   "metadata": {},
   "outputs": [],
   "source": [
    "result = mul_row(matrix)"
   ]
  },
  {
   "cell_type": "code",
   "execution_count": 103,
   "metadata": {},
   "outputs": [
    {
     "data": {
      "text/plain": [
       "tensor([[2., 2., 2., 2., 2.],\n",
       "        [4., 4., 4., 4., 4.],\n",
       "        [6., 6., 6., 6., 6.],\n",
       "        [8., 8., 8., 8., 8.]])"
      ]
     },
     "execution_count": 103,
     "metadata": {},
     "output_type": "execute_result"
    }
   ],
   "source": [
    "result"
   ]
  }
 ],
 "metadata": {
  "kernelspec": {
   "display_name": "pytorch-env",
   "language": "python",
   "name": "pytorch-env"
  },
  "language_info": {
   "codemirror_mode": {
    "name": "ipython",
    "version": 3
   },
   "file_extension": ".py",
   "mimetype": "text/x-python",
   "name": "python",
   "nbconvert_exporter": "python",
   "pygments_lexer": "ipython3",
   "version": "3.7.3"
  }
 },
 "nbformat": 4,
 "nbformat_minor": 2
}
